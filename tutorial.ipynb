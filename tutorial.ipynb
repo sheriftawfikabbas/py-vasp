{
 "cells": [
  {
   "cell_type": "code",
   "execution_count": 101,
   "metadata": {},
   "outputs": [
    {
     "name": "stdout",
     "output_type": "stream",
     "text": [
      "1.4481009999999999\n"
     ]
    }
   ],
   "source": [
    "import numpy as np\n",
    "feigenval = open('EIGENVAL', 'r')\n",
    "eigenval = feigenval.readlines()\n",
    "fdoscar = open('DOSCAR', 'r')\n",
    "doscar = fdoscar.readlines()\n",
    "fermi = float(doscar[5].split()[3])\n",
    "info = eigenval[5].split()\n",
    "num_points = int(info[2])\n",
    "num_bands = int(info[1])\n",
    "\n",
    "VB = []\n",
    "CB = []\n",
    "\n",
    "for b in range(num_bands):\n",
    "    vals = eigenval[7 + (num_points+2)* b:7 + (num_points+2)*(b+1)]\n",
    "    vals = vals [1:-1]\n",
    "    vals = np.array([v.split() for v in vals])[:,1].astype(np.float64)\n",
    "    VB += [vals[vals <= fermi]]\n",
    "    CB += [vals[vals > fermi]]\n",
    "\n",
    "CBM = min([x[0] for x in CB])\n",
    "VBM = max([x[-1] for x in VB])\n",
    "bandgap = CBM - VBM\n",
    "print(bandgap)\n"
   ]
  },
  {
   "cell_type": "code",
   "execution_count": 105,
   "metadata": {},
   "outputs": [
    {
     "data": {
      "text/plain": [
       "array([-22.3257  , -22.285497, -22.23447 , -22.22186 , -22.192667,\n",
       "       -21.751935, -15.538093, -14.977111, -14.577477,  -7.570543,\n",
       "        -7.568688,  -7.564773,  -4.269604,  -4.130826,  -3.9552  ,\n",
       "        -3.758651,  -2.056774,  -2.029952,  -1.8318  ,  -1.702566,\n",
       "        -1.521274,  -1.492342])"
      ]
     },
     "execution_count": 105,
     "metadata": {},
     "output_type": "execute_result"
    }
   ],
   "source": [
    "VB[0]\n",
    "# VB[0][-1]"
   ]
  },
  {
   "cell_type": "code",
   "execution_count": null,
   "metadata": {},
   "outputs": [],
   "source": [
    "VBM"
   ]
  }
 ],
 "metadata": {
  "kernelspec": {
   "display_name": "Python 3.10.10 64-bit (microsoft store)",
   "language": "python",
   "name": "python3"
  },
  "language_info": {
   "codemirror_mode": {
    "name": "ipython",
    "version": 3
   },
   "file_extension": ".py",
   "mimetype": "text/x-python",
   "name": "python",
   "nbconvert_exporter": "python",
   "pygments_lexer": "ipython3",
   "version": "3.10.10"
  },
  "orig_nbformat": 4,
  "vscode": {
   "interpreter": {
    "hash": "d2e20998373b3ba55d021e7b750bba8ad6332631440dca8b57ebc8d3d38236c0"
   }
  }
 },
 "nbformat": 4,
 "nbformat_minor": 2
}
